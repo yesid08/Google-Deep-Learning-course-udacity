{
 "cells": [
  {
   "cell_type": "code",
   "execution_count": 2,
   "metadata": {},
   "outputs": [
    {
     "name": "stdout",
     "output_type": "stream",
     "text": [
      "0.999999000008\n",
      "0.953673362732\n"
     ]
    }
   ],
   "source": [
    "LargeValue= 1*10**(9)\n",
    "ShortValue = 0\n",
    "for i in range (1,1000000):\n",
    "    LargeValue = LargeValue + 1*10**(-6)\n",
    "    ShortValue = ShortValue +  1*10**(-6)\n",
    "Result = LargeValue - 1*10**(9)\n",
    "print ShortValue\n",
    "print Result\n"
   ]
  },
  {
   "cell_type": "code",
   "execution_count": null,
   "metadata": {},
   "outputs": [],
   "source": []
  }
 ],
 "metadata": {
  "kernelspec": {
   "display_name": "Python 2",
   "language": "python",
   "name": "python2"
  },
  "language_info": {
   "codemirror_mode": {
    "name": "ipython",
    "version": 2
   },
   "file_extension": ".py",
   "mimetype": "text/x-python",
   "name": "python",
   "nbconvert_exporter": "python",
   "pygments_lexer": "ipython2",
   "version": "2.7.14"
  }
 },
 "nbformat": 4,
 "nbformat_minor": 2
}
