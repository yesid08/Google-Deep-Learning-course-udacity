{
 "cells": [
  {
   "cell_type": "code",
   "execution_count": 14,
   "metadata": {},
   "outputs": [],
   "source": [
    "#Importamos todas las librerias correspondientes a nuestro trabajo\n",
    "import numpy as np\n",
    "import pandas as pd\n",
    "import matplotlib.pyplot as plt\n",
    "import scipy.io\n",
    "import tensorflow as tf"
   ]
  },
  {
   "cell_type": "code",
   "execution_count": 15,
   "metadata": {},
   "outputs": [],
   "source": [
    "def cargarDataSets(train_file,test_file):\n",
    "    train_file_map = scipy.io.loadmat(train_file)\n",
    "    test_file_map = scipy.io.loadmat(test_file)\n",
    "    train_data = train_file_map['X']\n",
    "    train_labels = np.array(train_file_map['y'])\n",
    "    train_labels = train_labels.reshape(len(train_labels))\n",
    "    test_labels = test_file_map['y']\n",
    "    test_labels = test_labels.reshape((len(test_labels)))\n",
    "    mitad = int(len(test_labels)/2)\n",
    "    valid_labels = test_labels[mitad:]\n",
    "    test_labels = test_labels[:mitad]\n",
    "    test_data = test_file_map['X']\n",
    "    valid_data = test_data[:,:,:,mitad:]\n",
    "    test_data = test_data [:,:,:,:mitad]\n",
    "    train_data_set = ( train_data[:,:,0,:] + train_data[:,:,1,:]+ train_data[:,:,2,:] )/3\n",
    "    test_data_set = ( test_data[:,:,0,:] + test_data[:,:,1,:] + test_data[:,:,2,:] )/3\n",
    "    valid_data_set = ( valid_data[:,:,0,:] + valid_data[:,:,1,:] + valid_data[:,:,2,:] )/3\n",
    "    return train_data_set,train_labels,test_data_set,test_labels,valid_data_set,valid_labels"
   ]
  },
  {
   "cell_type": "code",
   "execution_count": 16,
   "metadata": {},
   "outputs": [],
   "source": [
    "image_size = 32\n",
    "num_labels = 11\n",
    "def reformatLabels(labels):\n",
    "    # Map 0 to [1.0, 0.0, 0.0 ...], 1 to [0.0, 1.0, 0.0 ...]\\n\",\n",
    "    labels = (np.arange(num_labels) == labels[:,None]).astype(np.float32)\n",
    "    return labels"
   ]
  },
  {
   "cell_type": "code",
   "execution_count": 39,
   "metadata": {},
   "outputs": [],
   "source": [
    "image_size = 32\n",
    "num_channels = 1\n",
    "def reformatDataSet(dataSet):\n",
    "    nuevoDataSet = dataSet.reshape((-1, image_size, image_size, num_channels)).astype(np.float32)\n",
    "    for i in range (len(nuevoDataSet)):\n",
    "        nuevoDataSet[i,:,:,0] = nuevoDataSet[i,:,:,0].T\n",
    "    return nuevoDataSet"
   ]
  },
  {
   "cell_type": "code",
   "execution_count": 40,
   "metadata": {},
   "outputs": [],
   "source": [
    "def normalizarDataSet(dataSet):\n",
    "    return (dataSet/128) - 0.5"
   ]
  },
  {
   "cell_type": "code",
   "execution_count": 47,
   "metadata": {},
   "outputs": [],
   "source": [
    "def comprobarIntegridadEntrenamiento(train_data,train_labels):\n",
    "    aleatorio = np.random.randint(0,len(train_labels))\n",
    "    imagen = train_data[aleatorio,:,:,0]\n",
    "    print(\"Prueba de integridad en el data set de Entrenamiento\")\n",
    "    plt.imshow(imagen , cmap = 'gray')\n",
    "    print (\"La clase de esta imagen es :\",np.argmax(train_labels[aleatorio]))"
   ]
  },
  {
   "cell_type": "code",
   "execution_count": 48,
   "metadata": {},
   "outputs": [],
   "source": [
    "def comprobarIntegridadTest(test_data,test_labels):\n",
    "    aleatorio = np.random.randint(0,len(test_labels))\n",
    "    imagen = test_data[aleatorio,:,:,0]\n",
    "    print(\"Prueba de integridad en el data set de Test\")\n",
    "    plt.imshow(imagen , cmap = 'gray')\n",
    "    print (\"La clase de esta imagen es :\",np.argmax(test_labels[aleatorio]))"
   ]
  },
  {
   "cell_type": "code",
   "execution_count": 49,
   "metadata": {},
   "outputs": [],
   "source": [
    "def comprobarIntegridadValid(valid_data,valid_labels):\n",
    "    aleatorio = np.random.randint(0,len(valid_labels))\n",
    "    imagen = valid_data[aleatorio,:,:,0]\n",
    "    print(\"Prueba de integridad en el data set de validación\")\n",
    "    plt.imshow(imagen , cmap = 'gray')\n",
    "    print (\"La clase de esta imagen es :\",np.argmax(valid_labels[aleatorio]))"
   ]
  },
  {
   "cell_type": "code",
   "execution_count": 50,
   "metadata": {},
   "outputs": [],
   "source": [
    "num_channels = 1\n",
    "image_size = 32\n",
    "train_file = 'train_32x32.mat'\n",
    "test_file = 'test_32x32.mat'\n",
    "train_data,train_labels,test_data,test_labels,valid_data,valid_labels = cargarDataSets(train_file,test_file)\n",
    "train_data = reformatDataSet(normalizarDataSet(train_data.T))\n",
    "train_labels = reformatLabels(train_labels)\n",
    "test_data = reformatDataSet(normalizarDataSet(test_data.T))\n",
    "test_labels = reformatLabels(test_labels)\n",
    "valid_labels = reformatLabels(valid_labels)\n",
    "valid_data = reformatDataSet(normalizarDataSet(valid_data.T))"
   ]
  },
  {
   "cell_type": "code",
   "execution_count": 60,
   "metadata": {},
   "outputs": [
    {
     "name": "stdout",
     "output_type": "stream",
     "text": [
      "Prueba de integridad en el data set de Entrenamiento\n",
      "La clase de esta imagen es : 1\n"
     ]
    },
    {
     "data": {
      "image/png": "[encoded data removed]",
      "text/plain": [
       "<matplotlib.figure.Figure at 0x1f229874ef0>"
      ]
     },
     "metadata": {},
     "output_type": "display_data"
    }
   ],
   "source": [
    "comprobarIntegridadEntrenamiento(train_data,train_labels)"
   ]
  },
  {
   "cell_type": "code",
   "execution_count": 67,
   "metadata": {},
   "outputs": [
    {
     "name": "stdout",
     "output_type": "stream",
     "text": [
      "Prueba de integridad en el data set de Test\n",
      "La clase de esta imagen es : 1\n"
     ]
    },
    {
     "data": {
      "image/png": "[encoded data removed]",
      "text/plain": [
       "<matplotlib.figure.Figure at 0x1f229a0cfd0>"
      ]
     },
     "metadata": {},
     "output_type": "display_data"
    }
   ],
   "source": [
    "comprobarIntegridadTest(test_data,test_labels)"
   ]
  },
  {
   "cell_type": "code",
   "execution_count": 83,
   "metadata": {},
   "outputs": [
    {
     "name": "stdout",
     "output_type": "stream",
     "text": [
      "Prueba de integridad en el data set de validación\n",
      "La clase de esta imagen es : 4\n"
     ]
    },
    {
     "data": {
      "image/png": "[encoded data removed]",
      "text/plain": [
       "<matplotlib.figure.Figure at 0x1f22981eda0>"
      ]
     },
     "metadata": {},
     "output_type": "display_data"
    }
   ],
   "source": [
    "comprobarIntegridadValid(valid_data,valid_labels)"
   ]
  },
  {
   "cell_type": "code",
   "execution_count": 84,
   "metadata": {},
   "outputs": [],
   "source": [
    "def accuracy(predictions, labels):\n",
    "    return (100.0 * np.sum(np.argmax(predictions, 1) == np.argmax(labels, 1))/ predictions.shape[0])"
   ]
  },
  {
   "cell_type": "code",
   "execution_count": 93,
   "metadata": {},
   "outputs": [],
   "source": [
    "#Red neuronal convolucional\n",
    "batch_size = 64\n",
    "patch_size = 5\n",
    "depth = 16\n",
    "num_hidden = 64\n",
    "num_channels = 1\n",
    "keep_prob = 0.85\n",
    "Beta = 0.0001\n",
    "graph = tf.Graph()\n",
    "\n",
    "with graph.as_default():\n",
    "\n",
    "    # Input data\n",
    "    tf_train_dataset = tf.placeholder(tf.float32, shape=(batch_size, image_size, image_size, num_channels))\n",
    "    tf_train_labels = tf.placeholder(tf.float32, shape=(batch_size, num_labels))\n",
    "    tf_valid_dataset =  tf.to_float( tf.constant(valid_data) )\n",
    "    tf_test_dataset = tf.to_float( tf.constant(test_data) )\n",
    "    \n",
    "    # Variables.\n",
    "    layer1_weights = tf.to_float( tf.Variable(tf.truncated_normal(\n",
    "        [patch_size, patch_size, num_channels, depth], stddev=0.1)) )\n",
    "    layer1_biases = tf.to_float( tf.Variable(tf.zeros([depth])) )\n",
    "    layer2_weights = tf.to_float( tf.Variable(tf.truncated_normal(\n",
    "    [patch_size, patch_size, depth, depth], stddev=0.1)) )\n",
    "    layer2_biases = tf.to_float( tf.Variable(tf.constant(1.0, shape=[depth])) )\n",
    "    layer3_weights = tf.to_float ( tf.Variable(tf.truncated_normal(\n",
    "    [image_size // 4 * image_size // 4 * depth, num_hidden], stddev=0.1)) )\n",
    "    layer3_biases = tf.to_float ( tf.Variable(tf.constant(1.0, shape=[num_hidden])) )\n",
    "    layer4_weights = tf.to_float( tf.Variable(tf.truncated_normal(\n",
    "    [num_hidden, num_labels], stddev=0.1)))\n",
    "    layer4_biases = tf.to_float( tf.Variable(tf.constant(1.0, shape=[num_labels])) )\n",
    "\n",
    "    # Model.\n",
    "    def model(data):\n",
    "        conv = tf.nn.conv2d(data, layer1_weights, [1, 1, 1, 1], padding='SAME')\n",
    "        conv = tf.nn.max_pool(value=conv , ksize=[1,2,2,1] , strides= [1,2,2,1] ,padding='SAME')\n",
    "        hidden = tf.nn.relu(conv + layer1_biases)\n",
    "        hidden = tf.nn.dropout( hidden, keep_prob )\n",
    "        conv = tf.nn.conv2d(hidden, layer2_weights, [1, 1, 1, 1], padding='SAME')\n",
    "        conv = tf.nn.max_pool(value=conv , ksize=[1,2,2,1] , strides= [1,2,2,1] ,padding='SAME')\n",
    "        hidden = tf.nn.relu(conv + layer2_biases)\n",
    "        hidden = tf.nn.dropout( hidden, keep_prob )\n",
    "        shape = hidden.get_shape().as_list()\n",
    "        reshape = tf.reshape(hidden, [shape[0], shape[1] * shape[2] * shape[3]])\n",
    "        hidden = tf.nn.relu(tf.matmul(reshape, layer3_weights) + layer3_biases)\n",
    "        return tf.matmul(hidden, layer4_weights) + layer4_biases\n",
    "\n",
    "    # Training computation.\\n\",\n",
    "    logits = model(tf_train_dataset)\n",
    "    loss = tf.reduce_mean(\n",
    "    tf.nn.softmax_cross_entropy_with_logits(labels=tf_train_labels, logits=logits))\n",
    "    loss = tf.reduce_mean( loss + Beta*(tf.nn.l2_loss(layer1_weights)+\n",
    "                                         tf.nn.l2_loss(layer2_weights)+ tf.nn.l2_loss(layer3_weights)+\n",
    "                                         tf.nn.l2_loss(layer4_weights)))\n",
    "\n",
    "    # Optimizer\n",
    "    optimizer = tf.train.AdagradOptimizer(0.08).minimize(loss)\n",
    "\n",
    "    # Predictions for the training, validation, and test data.\n",
    "    train_prediction = tf.nn.softmax(logits)\n",
    "    valid_prediction = tf.nn.softmax(model(tf_valid_dataset))\n",
    "    test_prediction = tf.nn.softmax(model(tf_test_dataset))"
   ]
  },
  {
   "cell_type": "code",
   "execution_count": 95,
   "metadata": {},
   "outputs": [
    {
     "name": "stdout",
     "output_type": "stream",
     "text": [
      "Initialized\n",
      "Minibatch loss at step 0: 4.126918\n",
      "Minibatch accuracy: 12.5%\n",
      "Validation accuracy: 7.5%\n",
      "Minibatch loss at step 100: 2.238122\n",
      "Minibatch accuracy: 23.4%\n",
      "Validation accuracy: 19.5%\n",
      "Minibatch loss at step 200: 2.219296\n",
      "Minibatch accuracy: 17.2%\n",
      "Validation accuracy: 19.3%\n",
      "Minibatch loss at step 300: 2.226187\n",
      "Minibatch accuracy: 17.2%\n",
      "Validation accuracy: 19.1%\n",
      "Minibatch loss at step 400: 2.239778\n",
      "Minibatch accuracy: 18.8%\n",
      "Validation accuracy: 20.3%\n",
      "Minibatch loss at step 500: 1.945467\n",
      "Minibatch accuracy: 31.2%\n",
      "Validation accuracy: 34.3%\n",
      "Minibatch loss at step 600: 1.493962\n",
      "Minibatch accuracy: 43.8%\n",
      "Validation accuracy: 37.9%\n",
      "Minibatch loss at step 700: 1.878583\n",
      "Minibatch accuracy: 39.1%\n",
      "Validation accuracy: 49.9%\n",
      "Minibatch loss at step 800: 1.487318\n",
      "Minibatch accuracy: 45.3%\n",
      "Validation accuracy: 55.1%\n",
      "Minibatch loss at step 900: 1.391232\n",
      "Minibatch accuracy: 46.9%\n",
      "Validation accuracy: 58.5%\n",
      "Minibatch loss at step 1000: 1.163028\n",
      "Minibatch accuracy: 65.6%\n",
      "Validation accuracy: 59.5%\n",
      "Minibatch loss at step 1100: 1.295151\n",
      "Minibatch accuracy: 60.9%\n",
      "Validation accuracy: 63.4%\n",
      "Minibatch loss at step 1200: 1.325989\n",
      "Minibatch accuracy: 56.2%\n",
      "Validation accuracy: 65.0%\n",
      "Minibatch loss at step 1300: 1.004757\n",
      "Minibatch accuracy: 73.4%\n",
      "Validation accuracy: 66.6%\n",
      "Minibatch loss at step 1400: 0.991577\n",
      "Minibatch accuracy: 70.3%\n",
      "Validation accuracy: 67.9%\n",
      "Minibatch loss at step 1500: 1.197889\n",
      "Minibatch accuracy: 60.9%\n",
      "Validation accuracy: 69.7%\n",
      "Minibatch loss at step 1600: 0.778906\n",
      "Minibatch accuracy: 71.9%\n",
      "Validation accuracy: 69.0%\n",
      "Minibatch loss at step 1700: 1.121972\n",
      "Minibatch accuracy: 59.4%\n",
      "Validation accuracy: 69.6%\n",
      "Minibatch loss at step 1800: 0.900767\n",
      "Minibatch accuracy: 73.4%\n",
      "Validation accuracy: 70.4%\n",
      "Minibatch loss at step 1900: 0.868752\n",
      "Minibatch accuracy: 76.6%\n",
      "Validation accuracy: 69.7%\n",
      "Minibatch loss at step 2000: 0.967687\n",
      "Minibatch accuracy: 67.2%\n",
      "Validation accuracy: 70.1%\n",
      "Minibatch loss at step 2100: 0.835735\n",
      "Minibatch accuracy: 71.9%\n",
      "Validation accuracy: 72.8%\n",
      "Minibatch loss at step 2200: 1.018566\n",
      "Minibatch accuracy: 70.3%\n",
      "Validation accuracy: 72.2%\n",
      "Minibatch loss at step 2300: 0.875111\n",
      "Minibatch accuracy: 71.9%\n",
      "Validation accuracy: 73.3%\n",
      "Minibatch loss at step 2400: 0.944298\n",
      "Minibatch accuracy: 67.2%\n",
      "Validation accuracy: 72.0%\n",
      "Minibatch loss at step 2500: 0.674523\n",
      "Minibatch accuracy: 79.7%\n",
      "Validation accuracy: 73.9%\n",
      "Minibatch loss at step 2600: 0.997697\n",
      "Minibatch accuracy: 73.4%\n",
      "Validation accuracy: 72.6%\n",
      "Minibatch loss at step 2700: 0.832309\n",
      "Minibatch accuracy: 68.8%\n",
      "Validation accuracy: 73.1%\n",
      "Minibatch loss at step 2800: 0.739792\n",
      "Minibatch accuracy: 79.7%\n",
      "Validation accuracy: 74.2%\n",
      "Minibatch loss at step 2900: 0.915828\n",
      "Minibatch accuracy: 68.8%\n",
      "Validation accuracy: 73.6%\n",
      "Minibatch loss at step 3000: 0.739614\n",
      "Minibatch accuracy: 76.6%\n",
      "Validation accuracy: 73.9%\n",
      "Minibatch loss at step 3100: 0.664593\n",
      "Minibatch accuracy: 82.8%\n",
      "Validation accuracy: 75.0%\n",
      "Minibatch loss at step 3200: 0.993031\n",
      "Minibatch accuracy: 67.2%\n",
      "Validation accuracy: 75.3%\n",
      "Minibatch loss at step 3300: 0.992827\n",
      "Minibatch accuracy: 75.0%\n",
      "Validation accuracy: 73.9%\n",
      "Minibatch loss at step 3400: 0.878762\n",
      "Minibatch accuracy: 73.4%\n",
      "Validation accuracy: 75.6%\n",
      "Minibatch loss at step 3500: 0.992698\n",
      "Minibatch accuracy: 67.2%\n",
      "Validation accuracy: 73.8%\n",
      "Minibatch loss at step 3600: 0.740976\n",
      "Minibatch accuracy: 79.7%\n",
      "Validation accuracy: 75.5%\n",
      "Minibatch loss at step 3700: 0.900655\n",
      "Minibatch accuracy: 67.2%\n",
      "Validation accuracy: 75.2%\n",
      "Minibatch loss at step 3800: 0.685910\n",
      "Minibatch accuracy: 81.2%\n",
      "Validation accuracy: 75.8%\n",
      "Minibatch loss at step 3900: 0.792064\n",
      "Minibatch accuracy: 76.6%\n",
      "Validation accuracy: 74.2%\n",
      "Minibatch loss at step 4000: 0.862183\n",
      "Minibatch accuracy: 68.8%\n",
      "Validation accuracy: 75.9%\n",
      "Minibatch loss at step 4100: 0.949570\n",
      "Minibatch accuracy: 71.9%\n",
      "Validation accuracy: 76.2%\n",
      "Minibatch loss at step 4200: 0.656457\n",
      "Minibatch accuracy: 76.6%\n",
      "Validation accuracy: 76.5%\n",
      "Minibatch loss at step 4300: 0.529287\n",
      "Minibatch accuracy: 82.8%\n",
      "Validation accuracy: 75.9%\n",
      "Minibatch loss at step 4400: 0.676379\n",
      "Minibatch accuracy: 76.6%\n",
      "Validation accuracy: 76.5%\n",
      "Minibatch loss at step 4500: 0.748026\n",
      "Minibatch accuracy: 76.6%\n",
      "Validation accuracy: 76.3%\n",
      "Minibatch loss at step 4600: 0.873347\n",
      "Minibatch accuracy: 78.1%\n",
      "Validation accuracy: 76.5%\n",
      "Minibatch loss at step 4700: 0.977278\n",
      "Minibatch accuracy: 67.2%\n",
      "Validation accuracy: 76.8%\n",
      "Minibatch loss at step 4800: 0.555505\n",
      "Minibatch accuracy: 87.5%\n",
      "Validation accuracy: 76.3%\n",
      "Minibatch loss at step 4900: 0.685912\n",
      "Minibatch accuracy: 73.4%\n",
      "Validation accuracy: 76.1%\n",
      "Minibatch loss at step 5000: 0.612674\n",
      "Minibatch accuracy: 81.2%\n",
      "Validation accuracy: 76.7%\n",
      "Test accuracy: 76.3%\n"
     ]
    }
   ],
   "source": [
    "num_steps = 5001\n",
    "with tf.Session(graph=graph) as session:\n",
    "    tf.global_variables_initializer().run()\n",
    "    print('Initialized')\n",
    "    for step in range(num_steps):\n",
    "        offset = (step * batch_size) % (train_labels.shape[0] - batch_size)\n",
    "        batch_data = train_data[offset:(offset + batch_size), :, :, :]\n",
    "        batch_labels = train_labels[offset:(offset + batch_size), :]\n",
    "        feed_dict = {tf_train_dataset : batch_data, tf_train_labels : batch_labels}\n",
    "        _, l, predictions = session.run(\n",
    "        [optimizer, loss, train_prediction], feed_dict=feed_dict)\n",
    "        if (step % 100 == 0):\n",
    "            print('Minibatch loss at step %d: %f' % (step, l))\n",
    "            print('Minibatch accuracy: %.1f%%' % accuracy(predictions, batch_labels))\n",
    "            print('Validation accuracy: %.1f%%' % accuracy(\n",
    "            valid_prediction.eval(), valid_labels))\n",
    "    print('Test accuracy: %.1f%%' % accuracy(test_prediction.eval(), test_labels))"
   ]
  },
  {
   "cell_type": "code",
   "execution_count": null,
   "metadata": {},
   "outputs": [],
   "source": []
  }
 ],
 "metadata": {
  "kernelspec": {
   "display_name": "Python 3",
   "language": "python",
   "name": "python3"
  },
  "language_info": {
   "codemirror_mode": {
    "name": "ipython",
    "version": 3
   },
   "file_extension": ".py",
   "mimetype": "text/x-python",
   "name": "python",
   "nbconvert_exporter": "python",
   "pygments_lexer": "ipython3",
   "version": "3.6.4"
  }
 },
 "nbformat": 4,
 "nbformat_minor": 2
}
