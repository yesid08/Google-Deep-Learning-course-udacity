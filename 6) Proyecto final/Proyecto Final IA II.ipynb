{
 "cells": [
  {
   "cell_type": "markdown",
   "metadata": {},
   "source": [
    "# Proyecto final Curso UDACITY\n",
    "## En este notebook, procedo a realizar la última práctica del curso de deep learning de Udacity\n"
   ]
  },
  {
   "cell_type": "markdown",
   "metadata": {},
   "source": [
    "Lo primero que procedemos a realizar es cargar todas las librerías que se utilizarán."
   ]
  },
  {
   "cell_type": "code",
   "execution_count": 29,
   "metadata": {},
   "outputs": [],
   "source": [
    "#Importamos todas las librerias correspondientes a nuestro trabajo\n",
    "import numpy as np\n",
    "import pandas as pd\n",
    "import matplotlib.pyplot as plt\n",
    "import scipy.io\n",
    "import tensorflow as tf"
   ]
  },
  {
   "cell_type": "markdown",
   "metadata": {},
   "source": [
    "## Importante! cargar los dataset de esta actividad\n",
    "Para poder realizar esta actividad, es necesario cargar los siguientes datasets, por restricciones de espacio utilizando en el disco de los datasets, no puedo subir el archivo al repositorio en github.  \n",
    "Los links de los datasets, son los siguientes:\n",
    "\n",
    "+ http://ufldl.stanford.edu/housenumbers/test_32x32.mat\n",
    "+ http://ufldl.stanford.edu/housenumbers/train_32x32.mat  \n",
    "Para el correcto funcionamiento, estos datasets deben estar dentro del directorio del curso, dentro del taller 6 como se muestra a continuación:  \n",
    "<img src=\"Ejemplo.png\">"
   ]
  },
  {
   "cell_type": "markdown",
   "metadata": {},
   "source": [
    "## En esta celda procedemos a crear una función que se encarga de cargarnos todos los datos de los datasets a nuestras variables en python."
   ]
  },
  {
   "cell_type": "code",
   "execution_count": 42,
   "metadata": {},
   "outputs": [],
   "source": [
    "def cargarDataSets(train_file,test_file):\n",
    "    train_file_map = scipy.io.loadmat(train_file)\n",
    "    test_file_map = scipy.io.loadmat(test_file)\n",
    "    train_data = train_file_map['X']\n",
    "    train_labels = np.array(train_file_map['y'])\n",
    "    train_labels = train_labels.reshape(len(train_labels))\n",
    "    test_labels = test_file_map['y']\n",
    "    test_labels = test_labels.reshape((len(test_labels)))\n",
    "    mitad = int(len(test_labels)/2)\n",
    "    valid_labels = test_labels[mitad:]\n",
    "    test_labels = test_labels[:mitad]\n",
    "    test_data = test_file_map['X']\n",
    "    valid_data = test_data[:,:,:,mitad:]\n",
    "    test_data = test_data [:,:,:,:mitad]\n",
    "    train_data_set = ( train_data[:,:,0,:] + train_data[:,:,1,:]+ train_data[:,:,2,:] )/3\n",
    "    test_data_set = ( test_data[:,:,0,:] + test_data[:,:,1,:] + test_data[:,:,2,:] )/3\n",
    "    valid_data_set = ( valid_data[:,:,0,:] + valid_data[:,:,1,:] + valid_data[:,:,2,:] )/3\n",
    "    return train_data_set,train_labels,test_data_set,test_labels,valid_data_set,valid_labels"
   ]
  },
  {
   "cell_type": "markdown",
   "metadata": {},
   "source": [
    "## Cargamos las funciones de nuestra actividad\n",
    "En estas celdas nos encargamos de definir algunos parámetros básicos como lo son:\n",
    "+ Cantidad de filas y columnas de nuestras imagenes (32 porque nuestro dataset posee matrices cuadradas de dicho tamaño)\n",
    "+ Cantidad de clases (11 porque existen imágenes del 0 al 10) \n",
    "+ Cantidad de canales (1, ya que procesamos las imagenes del dataset para obtener sólo un canal a escala de grises)  \n",
    "También procedemos a cargar las funciones de nuestra actividad."
   ]
  },
  {
   "cell_type": "code",
   "execution_count": 31,
   "metadata": {},
   "outputs": [],
   "source": [
    "image_size = 32\n",
    "num_labels = 11\n",
    "num_channels = 1\n",
    "\n",
    "def reformatLabels(labels):\n",
    "    # Map 0 to [1.0, 0.0, 0.0 ...], 1 to [0.0, 1.0, 0.0 ...]\\n\",\n",
    "    labels = (np.arange(num_labels) == labels[:,None]).astype(np.float32)\n",
    "    return labels\n",
    "\n",
    "def reformatDataSet(dataSet):\n",
    "    nuevoDataSet = dataSet.reshape((-1, image_size, image_size, num_channels)).astype(np.float32)\n",
    "    for i in range (len(nuevoDataSet)):\n",
    "        nuevoDataSet[i,:,:,0] = nuevoDataSet[i,:,:,0].T\n",
    "    return nuevoDataSet\n",
    "\n",
    "def normalizarDataSet(dataSet):\n",
    "    return (dataSet/128) - 0.5\n",
    "\n",
    "def comprobarIntegridadEntrenamiento(train_data,train_labels):\n",
    "    aleatorio = np.random.randint(0,len(train_labels))\n",
    "    imagen = train_data[aleatorio,:,:,0]\n",
    "    print(\"Prueba de integridad en el data set de Entrenamiento\")\n",
    "    plt.imshow(imagen , cmap = 'gray')\n",
    "    print (\"La clase de esta imagen es :\",np.argmax(train_labels[aleatorio]))\n",
    "    \n",
    "def comprobarIntegridadTest(test_data,test_labels):\n",
    "    aleatorio = np.random.randint(0,len(test_labels))\n",
    "    imagen = test_data[aleatorio,:,:,0]\n",
    "    print(\"Prueba de integridad en el data set de Test\")\n",
    "    plt.imshow(imagen , cmap = 'gray')\n",
    "    print (\"La clase de esta imagen es :\",np.argmax(test_labels[aleatorio]))\n",
    "\n",
    "def comprobarIntegridadValid(valid_data,valid_labels):\n",
    "    aleatorio = np.random.randint(0,len(valid_labels))\n",
    "    imagen = valid_data[aleatorio,:,:,0]\n",
    "    print(\"Prueba de integridad en el data set de validación\")\n",
    "    plt.imshow(imagen , cmap = 'gray')\n",
    "    print (\"La clase de esta imagen es :\",np.argmax(valid_labels[aleatorio]))\n",
    "\n",
    "def accuracy(predictions, labels):\n",
    "    return (100.0 * np.sum(np.argmax(predictions, 1) == np.argmax(labels, 1))/ predictions.shape[0])"
   ]
  },
  {
   "cell_type": "code",
   "execution_count": 32,
   "metadata": {},
   "outputs": [],
   "source": [
    "num_channels = 1\n",
    "image_size = 32\n",
    "train_file = 'train_32x32.mat'\n",
    "test_file = 'test_32x32.mat'\n",
    "train_data,train_labels,test_data,test_labels,valid_data,valid_labels = cargarDataSets(train_file,test_file)\n",
    "train_data = reformatDataSet(normalizarDataSet(train_data.T))\n",
    "train_labels = reformatLabels(train_labels)\n",
    "test_data = reformatDataSet(normalizarDataSet(test_data.T))\n",
    "test_labels = reformatLabels(test_labels)\n",
    "valid_labels = reformatLabels(valid_labels)\n",
    "valid_data = reformatDataSet(normalizarDataSet(valid_data.T))"
   ]
  },
  {
   "cell_type": "markdown",
   "metadata": {},
   "source": [
    "# Comprobamos la integridad de nuestro dataset luego de cargar los datos\n",
    "En las siguientes tres celdas nos enfocaremos en mostrar una imagen aleatória de cada uno de los datasets y expondremos la clase del mismo, esto para hacer un check visual y manual de la data con la que estamos trabajando."
   ]
  },
  {
   "cell_type": "code",
   "execution_count": 33,
   "metadata": {},
   "outputs": [
    {
     "name": "stdout",
     "output_type": "stream",
     "text": [
      "Prueba de integridad en el data set de Entrenamiento\n",
      "La clase de esta imagen es : 4\n"
     ]
    },
    {
     "data": {
      "image/png": "[encoded data removed]",
      "text/plain": [
       "<matplotlib.figure.Figure at 0x1bfbe6baa58>"
      ]
     },
     "metadata": {},
     "output_type": "display_data"
    }
   ],
   "source": [
    "comprobarIntegridadEntrenamiento(train_data,train_labels)\n"
   ]
  },
  {
   "cell_type": "code",
   "execution_count": 49,
   "metadata": {},
   "outputs": [
    {
     "name": "stdout",
     "output_type": "stream",
     "text": [
      "Prueba de integridad en el data set de Test\n",
      "La clase de esta imagen es : 1\n"
     ]
    },
    {
     "data": {
      "image/png": "[encoded data removed]",
      "text/plain": [
       "<matplotlib.figure.Figure at 0x1bfbe6e6588>"
      ]
     },
     "metadata": {},
     "output_type": "display_data"
    }
   ],
   "source": [
    "comprobarIntegridadTest(test_data,test_labels)"
   ]
  },
  {
   "cell_type": "code",
   "execution_count": 50,
   "metadata": {},
   "outputs": [
    {
     "name": "stdout",
     "output_type": "stream",
     "text": [
      "Prueba de integridad en el data set de validación\n",
      "La clase de esta imagen es : 3\n"
     ]
    },
    {
     "data": {
      "image/png": "[encoded data removed]",
      "text/plain": [
       "<matplotlib.figure.Figure at 0x1bfac2ec278>"
      ]
     },
     "metadata": {},
     "output_type": "display_data"
    }
   ],
   "source": [
    "comprobarIntegridadValid(valid_data,valid_labels)"
   ]
  },
  {
   "cell_type": "markdown",
   "metadata": {},
   "source": [
    "## Red Neuronal Convolucional (CNN)\n",
    "  \n",
    "Para dar solución a esta actividad, he propuesto una red neuronal con los siguientes parámetros:\n",
    "+ batch_size = 64\n",
    "+ patch_size = 5\n",
    "+ depth = 32\n",
    "+ num_hidden = 64\n",
    "+ num_channels = 1\n",
    "+ keep_prob = 0.85\n",
    "+ Beta = 0.0001  \n",
    "En las siguientes dos celdas se muestra el código fuente en tensorflow de la red neuronal convolucional con los parámetros mencionados, la primera celda es la lógica detrás de la red neuronal, y la segunda celda hace referencia a la ejecución de dicha red neuronal.\n"
   ]
  },
  {
   "cell_type": "code",
   "execution_count": 47,
   "metadata": {},
   "outputs": [],
   "source": [
    "#Red neuronal convolucional\n",
    "\n",
    "#valores de prueba#\n",
    "batch_size = 64\n",
    "patch_size = 5\n",
    "depth = 32\n",
    "num_hidden = 64\n",
    "num_channels = 1\n",
    "keep_prob = 0.85\n",
    "Beta = 0.0001\n",
    "graph = tf.Graph()\n",
    "#---------------#\n",
    "\n",
    "with graph.as_default():\n",
    "\n",
    "    # Input data\n",
    "    tf_train_dataset = tf.placeholder(tf.float32, shape=(batch_size, image_size, image_size, num_channels))\n",
    "    tf_train_labels = tf.placeholder(tf.float32, shape=(batch_size, num_labels))\n",
    "    tf_valid_dataset =  tf.to_float( tf.constant(valid_data) )\n",
    "    tf_test_dataset = tf.to_float( tf.constant(test_data) )\n",
    "    \n",
    "    # Variables.\n",
    "    layer1_weights = tf.to_float( tf.Variable(tf.truncated_normal(\n",
    "        [patch_size, patch_size, num_channels, depth], stddev=0.1)) )\n",
    "    layer1_biases = tf.to_float( tf.Variable(tf.zeros([depth])) )\n",
    "    layer2_weights = tf.to_float( tf.Variable(tf.truncated_normal(\n",
    "    [patch_size, patch_size, depth, depth], stddev=0.1)) )\n",
    "    layer2_biases = tf.to_float( tf.Variable(tf.constant(1.0, shape=[depth])) )\n",
    "    layer3_weights = tf.to_float ( tf.Variable(tf.truncated_normal(\n",
    "    [image_size // 4 * image_size // 4 * depth, num_hidden], stddev=0.1)) )\n",
    "    layer3_biases = tf.to_float ( tf.Variable(tf.constant(1.0, shape=[num_hidden])) )\n",
    "    layer4_weights = tf.to_float( tf.Variable(tf.truncated_normal(\n",
    "    [num_hidden, num_labels], stddev=0.1)))\n",
    "    layer4_biases = tf.to_float( tf.Variable(tf.constant(1.0, shape=[num_labels])) )\n",
    "\n",
    "    # Model.\n",
    "    def model(data):\n",
    "        conv = tf.nn.conv2d(data, layer1_weights, [1, 1, 1, 1], padding='SAME')\n",
    "        conv = tf.nn.max_pool(value=conv , ksize=[1,2,2,1] , strides= [1,2,2,1] ,padding='SAME')\n",
    "        hidden = tf.nn.relu(conv + layer1_biases)\n",
    "        hidden = tf.nn.dropout( hidden, keep_prob )\n",
    "        conv = tf.nn.conv2d(hidden, layer2_weights, [1, 1, 1, 1], padding='SAME')\n",
    "        conv = tf.nn.max_pool(value=conv , ksize=[1,2,2,1] , strides= [1,2,2,1] ,padding='SAME')\n",
    "        hidden = tf.nn.relu(conv + layer2_biases)\n",
    "        hidden = tf.nn.dropout( hidden, keep_prob )\n",
    "        shape = hidden.get_shape().as_list()\n",
    "        reshape = tf.reshape(hidden, [shape[0], shape[1] * shape[2] * shape[3]])\n",
    "        hidden = tf.nn.relu(tf.matmul(reshape, layer3_weights) + layer3_biases)\n",
    "        return tf.matmul(hidden, layer4_weights) + layer4_biases\n",
    "\n",
    "    # Training computation.\\n\",\n",
    "    logits = model(tf_train_dataset)\n",
    "    loss = tf.reduce_mean(\n",
    "    tf.nn.softmax_cross_entropy_with_logits(labels=tf_train_labels, logits=logits))\n",
    "    loss = tf.reduce_mean( loss + Beta*(tf.nn.l2_loss(layer1_weights)+\n",
    "                                         tf.nn.l2_loss(layer2_weights)+ tf.nn.l2_loss(layer3_weights)+\n",
    "                                         tf.nn.l2_loss(layer4_weights)))\n",
    "\n",
    "    # Optimizer\n",
    "    optimizer = tf.train.AdagradOptimizer(0.08).minimize(loss)\n",
    "\n",
    "    # Predictions for the training, validation, and test data.\n",
    "    train_prediction = tf.nn.softmax(logits)\n",
    "    valid_prediction = tf.nn.softmax(model(tf_valid_dataset))\n",
    "    test_prediction = tf.nn.softmax(model(tf_test_dataset))"
   ]
  },
  {
   "cell_type": "code",
   "execution_count": 48,
   "metadata": {},
   "outputs": [
    {
     "name": "stdout",
     "output_type": "stream",
     "text": [
      "Initialized\n",
      "Minibatch loss at step 0: 4.645894\n",
      "Minibatch accuracy: 12.5%\n",
      "Validation accuracy: 6.6%\n",
      "Minibatch loss at step 100: 2.296008\n",
      "Minibatch accuracy: 20.3%\n",
      "Validation accuracy: 19.7%\n",
      "Minibatch loss at step 200: 2.230677\n",
      "Minibatch accuracy: 17.2%\n",
      "Validation accuracy: 16.7%\n",
      "Minibatch loss at step 300: 2.349463\n",
      "Minibatch accuracy: 15.6%\n",
      "Validation accuracy: 19.7%\n",
      "Minibatch loss at step 400: 2.349088\n",
      "Minibatch accuracy: 18.8%\n",
      "Validation accuracy: 19.8%\n",
      "Minibatch loss at step 500: 2.258370\n",
      "Minibatch accuracy: 26.6%\n",
      "Validation accuracy: 20.4%\n",
      "Minibatch loss at step 600: 2.229650\n",
      "Minibatch accuracy: 23.4%\n",
      "Validation accuracy: 20.2%\n",
      "Minibatch loss at step 700: 2.209282\n",
      "Minibatch accuracy: 28.1%\n",
      "Validation accuracy: 20.6%\n",
      "Minibatch loss at step 800: 2.276118\n",
      "Minibatch accuracy: 15.6%\n",
      "Validation accuracy: 23.3%\n",
      "Minibatch loss at step 900: 2.182385\n",
      "Minibatch accuracy: 26.6%\n",
      "Validation accuracy: 28.8%\n",
      "Minibatch loss at step 1000: 2.095731\n",
      "Minibatch accuracy: 26.6%\n",
      "Validation accuracy: 36.8%\n",
      "Minibatch loss at step 1100: 1.614433\n",
      "Minibatch accuracy: 51.6%\n",
      "Validation accuracy: 51.6%\n",
      "Minibatch loss at step 1200: 1.541481\n",
      "Minibatch accuracy: 48.4%\n",
      "Validation accuracy: 54.9%\n",
      "Minibatch loss at step 1300: 1.147875\n",
      "Minibatch accuracy: 59.4%\n",
      "Validation accuracy: 57.7%\n",
      "Minibatch loss at step 1400: 1.374475\n",
      "Minibatch accuracy: 59.4%\n",
      "Validation accuracy: 58.2%\n",
      "Minibatch loss at step 1500: 1.412185\n",
      "Minibatch accuracy: 51.6%\n",
      "Validation accuracy: 60.2%\n",
      "Minibatch loss at step 1600: 1.057245\n",
      "Minibatch accuracy: 67.2%\n",
      "Validation accuracy: 61.5%\n",
      "Minibatch loss at step 1700: 1.404596\n",
      "Minibatch accuracy: 54.7%\n",
      "Validation accuracy: 60.8%\n",
      "Minibatch loss at step 1800: 1.290892\n",
      "Minibatch accuracy: 56.2%\n",
      "Validation accuracy: 65.1%\n",
      "Minibatch loss at step 1900: 0.989518\n",
      "Minibatch accuracy: 65.6%\n",
      "Validation accuracy: 65.0%\n",
      "Minibatch loss at step 2000: 0.947163\n",
      "Minibatch accuracy: 73.4%\n",
      "Validation accuracy: 66.7%\n",
      "Minibatch loss at step 2100: 0.987933\n",
      "Minibatch accuracy: 68.8%\n",
      "Validation accuracy: 67.2%\n",
      "Minibatch loss at step 2200: 1.147107\n",
      "Minibatch accuracy: 65.6%\n",
      "Validation accuracy: 67.9%\n",
      "Minibatch loss at step 2300: 1.129001\n",
      "Minibatch accuracy: 60.9%\n",
      "Validation accuracy: 69.0%\n",
      "Minibatch loss at step 2400: 1.141370\n",
      "Minibatch accuracy: 65.6%\n",
      "Validation accuracy: 66.5%\n",
      "Minibatch loss at step 2500: 0.868580\n",
      "Minibatch accuracy: 67.2%\n",
      "Validation accuracy: 69.4%\n",
      "Minibatch loss at step 2600: 1.075084\n",
      "Minibatch accuracy: 64.1%\n",
      "Validation accuracy: 69.9%\n",
      "Minibatch loss at step 2700: 1.065818\n",
      "Minibatch accuracy: 67.2%\n",
      "Validation accuracy: 70.3%\n",
      "Minibatch loss at step 2800: 1.019395\n",
      "Minibatch accuracy: 71.9%\n",
      "Validation accuracy: 68.5%\n",
      "Minibatch loss at step 2900: 1.000251\n",
      "Minibatch accuracy: 68.8%\n",
      "Validation accuracy: 70.7%\n",
      "Minibatch loss at step 3000: 1.035067\n",
      "Minibatch accuracy: 67.2%\n",
      "Validation accuracy: 69.1%\n",
      "Minibatch loss at step 3100: 0.714683\n",
      "Minibatch accuracy: 75.0%\n",
      "Validation accuracy: 71.5%\n",
      "Minibatch loss at step 3200: 0.862020\n",
      "Minibatch accuracy: 73.4%\n",
      "Validation accuracy: 71.6%\n",
      "Minibatch loss at step 3300: 1.234298\n",
      "Minibatch accuracy: 68.8%\n",
      "Validation accuracy: 70.9%\n",
      "Minibatch loss at step 3400: 0.995906\n",
      "Minibatch accuracy: 65.6%\n",
      "Validation accuracy: 72.3%\n",
      "Minibatch loss at step 3500: 0.936110\n",
      "Minibatch accuracy: 68.8%\n",
      "Validation accuracy: 71.1%\n",
      "Minibatch loss at step 3600: 0.743012\n",
      "Minibatch accuracy: 81.2%\n",
      "Validation accuracy: 71.8%\n",
      "Minibatch loss at step 3700: 1.024822\n",
      "Minibatch accuracy: 65.6%\n",
      "Validation accuracy: 72.7%\n",
      "Minibatch loss at step 3800: 0.994006\n",
      "Minibatch accuracy: 68.8%\n",
      "Validation accuracy: 72.7%\n",
      "Minibatch loss at step 3900: 0.932937\n",
      "Minibatch accuracy: 73.4%\n",
      "Validation accuracy: 71.4%\n",
      "Minibatch loss at step 4000: 0.943159\n",
      "Minibatch accuracy: 75.0%\n",
      "Validation accuracy: 72.2%\n",
      "Minibatch loss at step 4100: 1.182885\n",
      "Minibatch accuracy: 64.1%\n",
      "Validation accuracy: 73.5%\n",
      "Minibatch loss at step 4200: 0.734644\n",
      "Minibatch accuracy: 75.0%\n",
      "Validation accuracy: 73.5%\n",
      "Minibatch loss at step 4300: 0.676015\n",
      "Minibatch accuracy: 84.4%\n",
      "Validation accuracy: 72.7%\n",
      "Minibatch loss at step 4400: 0.872640\n",
      "Minibatch accuracy: 70.3%\n",
      "Validation accuracy: 74.4%\n",
      "Minibatch loss at step 4500: 0.860058\n",
      "Minibatch accuracy: 75.0%\n",
      "Validation accuracy: 74.0%\n",
      "Minibatch loss at step 4600: 0.877434\n",
      "Minibatch accuracy: 75.0%\n",
      "Validation accuracy: 74.2%\n",
      "Minibatch loss at step 4700: 0.956697\n",
      "Minibatch accuracy: 71.9%\n",
      "Validation accuracy: 74.1%\n",
      "Minibatch loss at step 4800: 0.622446\n",
      "Minibatch accuracy: 84.4%\n",
      "Validation accuracy: 73.5%\n",
      "Minibatch loss at step 4900: 0.839573\n",
      "Minibatch accuracy: 73.4%\n",
      "Validation accuracy: 73.8%\n",
      "Minibatch loss at step 5000: 0.869659\n",
      "Minibatch accuracy: 68.8%\n",
      "Validation accuracy: 74.8%\n",
      "Test accuracy: 74.0%\n"
     ]
    }
   ],
   "source": [
    "num_steps = 5001\n",
    "with tf.Session(graph=graph) as session:\n",
    "    tf.global_variables_initializer().run()\n",
    "    print('Initialized')\n",
    "    for step in range(num_steps):\n",
    "        offset = (step * batch_size) % (train_labels.shape[0] - batch_size)\n",
    "        batch_data = train_data[offset:(offset + batch_size), :, :, :]\n",
    "        batch_labels = train_labels[offset:(offset + batch_size), :]\n",
    "        feed_dict = {tf_train_dataset : batch_data, tf_train_labels : batch_labels}\n",
    "        _, l, predictions = session.run(\n",
    "        [optimizer, loss, train_prediction], feed_dict=feed_dict)\n",
    "        if (step % 100 == 0):\n",
    "            print('Minibatch loss at step %d: %f' % (step, l))\n",
    "            print('Minibatch accuracy: %.1f%%' % accuracy(predictions, batch_labels))\n",
    "            print('Validation accuracy: %.1f%%' % accuracy(\n",
    "            valid_prediction.eval(), valid_labels))\n",
    "    print('Test accuracy: %.1f%%' % accuracy(test_prediction.eval(), test_labels))"
   ]
  }
 ],
 "metadata": {
  "kernelspec": {
   "display_name": "Python 3",
   "language": "python",
   "name": "python3"
  },
  "language_info": {
   "codemirror_mode": {
    "name": "ipython",
    "version": 3
   },
   "file_extension": ".py",
   "mimetype": "text/x-python",
   "name": "python",
   "nbconvert_exporter": "python",
   "pygments_lexer": "ipython3",
   "version": "3.6.4"
  }
 },
 "nbformat": 4,
 "nbformat_minor": 2
}
