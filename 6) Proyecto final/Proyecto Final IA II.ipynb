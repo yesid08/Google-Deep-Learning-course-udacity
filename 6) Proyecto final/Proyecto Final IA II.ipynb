{
 "cells": [
  {
   "cell_type": "code",
   "execution_count": 165,
   "metadata": {},
   "outputs": [],
   "source": [
    "#Importamos todas las librerias correspondientes a nuestro trabajo\n",
    "import numpy as np\n",
    "import pandas as pd\n",
    "import matplotlib.pyplot as plt\n",
    "import scipy.io\n",
    "from sklearn.naive_bayes import GaussianNB"
   ]
  },
  {
   "cell_type": "code",
   "execution_count": 166,
   "metadata": {},
   "outputs": [
    {
     "name": "stdout",
     "output_type": "stream",
     "text": [
      "(32, 32, 3, 73257)\n"
     ]
    },
    {
     "name": "stderr",
     "output_type": "stream",
     "text": [
      "D:\\Anaconda\\lib\\site-packages\\ipykernel_launcher.py:5: DeprecationWarning: Non-string object detected for the array ordering. Please pass in 'C', 'F', 'A', or 'K' instead\n",
      "  \"\"\"\n"
     ]
    }
   ],
   "source": [
    "train_file = 'train_32x32.mat'\n",
    "train_file_map = scipy.io.loadmat(train_file)\n",
    "train_data = train_file_map['X']\n",
    "train_labels = np.array(train_file_map['y'], dtype=int )\n",
    "train_labels = train_labels.ravel(len(train_data))\n",
    "print (train_data.shape)"
   ]
  },
  {
   "cell_type": "code",
   "execution_count": 167,
   "metadata": {},
   "outputs": [
    {
     "name": "stdout",
     "output_type": "stream",
     "text": [
      "las nuevas dimensiones del data_set son:  (32, 32, 73257)\n"
     ]
    }
   ],
   "source": [
    "for i in range (0,len(train_data)):\n",
    "    train_data_set = (train_data[:,:,0] + train_data[:,:,1]+ train_data[:,:,2])/3\n",
    "print (\"las nuevas dimensiones del data_set son: \",train_data_set.shape)"
   ]
  },
  {
   "cell_type": "code",
   "execution_count": 168,
   "metadata": {},
   "outputs": [
    {
     "name": "stdout",
     "output_type": "stream",
     "text": [
      "la clase de la imagen es:  5\n"
     ]
    },
    {
     "data": {
      "image/png": "[encoded data removed]",
      "text/plain": [
       "<matplotlib.figure.Figure at 0x1c80043f5f8>"
      ]
     },
     "metadata": {},
     "output_type": "display_data"
    }
   ],
   "source": [
    "aleatorio = np.random.randint(0,len(train_data_set))\n",
    "plt.imshow(train_data_set[:,:,aleatorio] ,cmap='gray')\n",
    "print (\"la clase de la imagen es: \",train_labels[aleatorio])"
   ]
  },
  {
   "cell_type": "code",
   "execution_count": 169,
   "metadata": {},
   "outputs": [
    {
     "name": "stdout",
     "output_type": "stream",
     "text": [
      "(73257, 1024)\n"
     ]
    }
   ],
   "source": [
    "fit_data_set = np.reshape(train_data_set,newshape=(len(train_labels),32*32))\n",
    "print (fit_data_set.shape)\n"
   ]
  },
  {
   "cell_type": "code",
   "execution_count": 170,
   "metadata": {},
   "outputs": [
    {
     "data": {
      "text/plain": [
       "GaussianNB(priors=None)"
      ]
     },
     "execution_count": 170,
     "metadata": {},
     "output_type": "execute_result"
    }
   ],
   "source": [
    "logistic = GaussianNB()\n",
    "logistic.fit( X = fit_data_set , y = train_labels )\n"
   ]
  },
  {
   "cell_type": "code",
   "execution_count": 171,
   "metadata": {},
   "outputs": [
    {
     "name": "stdout",
     "output_type": "stream",
     "text": [
      "0.22421065563700399 73257 16425\n"
     ]
    }
   ],
   "source": [
    "porcentaje = logistic.score( X= fit_data_set , y = train_labels )\n",
    "cantidadTotal = len(fit_data_set)\n",
    "cantidadAcertada = int(porcentaje * cantidadTotal)\n",
    "print (porcentaje , cantidadTotal , cantidadAcertada)"
   ]
  },
  {
   "cell_type": "code",
   "execution_count": 174,
   "metadata": {},
   "outputs": [
    {
     "name": "stdout",
     "output_type": "stream",
     "text": [
      "10\n"
     ]
    }
   ],
   "source": [
    "claseMaxima = max(train_labels)\n",
    "claseMinima = min(train_labels)\n",
    "diferencia = claseMaxima - claseMinima + 1\n",
    "print (diferencia)"
   ]
  },
  {
   "cell_type": "code",
   "execution_count": 175,
   "metadata": {},
   "outputs": [],
   "source": [
    "np.random.permutation??"
   ]
  },
  {
   "cell_type": "code",
   "execution_count": null,
   "metadata": {},
   "outputs": [],
   "source": []
  }
 ],
 "metadata": {
  "kernelspec": {
   "display_name": "Python 3",
   "language": "python",
   "name": "python3"
  },
  "language_info": {
   "codemirror_mode": {
    "name": "ipython",
    "version": 3
   },
   "file_extension": ".py",
   "mimetype": "text/x-python",
   "name": "python",
   "nbconvert_exporter": "python",
   "pygments_lexer": "ipython3",
   "version": "3.6.4"
  }
 },
 "nbformat": 4,
 "nbformat_minor": 2
}
